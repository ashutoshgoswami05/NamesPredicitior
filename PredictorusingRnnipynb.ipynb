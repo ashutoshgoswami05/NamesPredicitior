{
  "nbformat": 4,
  "nbformat_minor": 0,
  "metadata": {
    "colab": {
      "name": "PredictorusingRnnipynb",
      "provenance": [],
      "include_colab_link": true
    },
    "kernelspec": {
      "name": "python3",
      "display_name": "Python 3"
    },
    "accelerator": "GPU"
  },
  "cells": [
    {
      "cell_type": "markdown",
      "metadata": {
        "id": "view-in-github",
        "colab_type": "text"
      },
      "source": [
        "<a href=\"https://colab.research.google.com/github/ashutoshgoswami05/NamesPredicitior/blob/master/PredictorusingRnnipynb.ipynb\" target=\"_parent\"><img src=\"https://colab.research.google.com/assets/colab-badge.svg\" alt=\"Open In Colab\"/></a>"
      ]
    },
    {
      "cell_type": "code",
      "metadata": {
        "id": "A9mlrjRZel4T",
        "colab_type": "code",
        "colab": {}
      },
      "source": [
        "\n",
        "! cp kaggle.json /root/.kaggle/kaggle.json"
      ],
      "execution_count": 0,
      "outputs": []
    },
    {
      "cell_type": "code",
      "metadata": {
        "id": "uzN2g_Pej9bh",
        "colab_type": "code",
        "colab": {}
      },
      "source": [
        "! chmod 600  /root/.kaggle/kaggle.json"
      ],
      "execution_count": 0,
      "outputs": []
    },
    {
      "cell_type": "code",
      "metadata": {
        "id": "41r9NSx8kSGi",
        "colab_type": "code",
        "colab": {
          "base_uri": "https://localhost:8080/",
          "height": 67
        },
        "outputId": "2f1c02c8-13d6-48ba-88d6-0eaaf56f044d"
      },
      "source": [
        "! kaggle datasets download kaggle/us-baby-names"
      ],
      "execution_count": 10,
      "outputs": [
        {
          "output_type": "stream",
          "text": [
            "Downloading us-baby-names.zip to /content\n",
            " 95% 165M/173M [00:02<00:00, 58.3MB/s]\n",
            "100% 173M/173M [00:02<00:00, 72.1MB/s]\n"
          ],
          "name": "stdout"
        }
      ]
    },
    {
      "cell_type": "code",
      "metadata": {
        "id": "pLX1ztjgkU_b",
        "colab_type": "code",
        "colab": {}
      },
      "source": [
        "! unzip --qq us-baby-names.zip"
      ],
      "execution_count": 0,
      "outputs": []
    },
    {
      "cell_type": "code",
      "metadata": {
        "id": "dA1sc5B7kZo3",
        "colab_type": "code",
        "colab": {}
      },
      "source": [
        "import pandas as pd"
      ],
      "execution_count": 0,
      "outputs": []
    },
    {
      "cell_type": "code",
      "metadata": {
        "id": "9JX8avpJkltv",
        "colab_type": "code",
        "colab": {}
      },
      "source": [
        "nn_names = pd.read_csv(\"NationalNames.csv\")"
      ],
      "execution_count": 0,
      "outputs": []
    },
    {
      "cell_type": "code",
      "metadata": {
        "id": "DA1URbsIkv2Y",
        "colab_type": "code",
        "colab": {}
      },
      "source": [
        "\n",
        "names = nn_names[['Name', 'Gender']]"
      ],
      "execution_count": 0,
      "outputs": []
    },
    {
      "cell_type": "code",
      "metadata": {
        "id": "Hmv7W4T_ozC5",
        "colab_type": "code",
        "colab": {
          "base_uri": "https://localhost:8080/",
          "height": 34
        },
        "outputId": "7ea46acf-fcdd-4912-f6da-23d3b9946372"
      },
      "source": [
        "names.shape"
      ],
      "execution_count": 29,
      "outputs": [
        {
          "output_type": "execute_result",
          "data": {
            "text/plain": [
              "(1825433, 2)"
            ]
          },
          "metadata": {
            "tags": []
          },
          "execution_count": 29
        }
      ]
    },
    {
      "cell_type": "code",
      "metadata": {
        "id": "plAqGadZkyue",
        "colab_type": "code",
        "colab": {}
      },
      "source": [
        "\n",
        "import string\n",
        "letters = string.ascii_lowercase[:26]"
      ],
      "execution_count": 0,
      "outputs": []
    },
    {
      "cell_type": "code",
      "metadata": {
        "id": "WxObVZ_nk1i7",
        "colab_type": "code",
        "colab": {}
      },
      "source": [
        "vocab = {}\n",
        "for index, letter in enumerate(letters):\n",
        "  vocab[letter] = index + 1"
      ],
      "execution_count": 0,
      "outputs": []
    },
    {
      "cell_type": "code",
      "metadata": {
        "id": "SlIjkzAXlKM_",
        "colab_type": "code",
        "colab": {}
      },
      "source": [
        "from keras.preprocessing.sequence import pad_sequences\n",
        "from sklearn.preprocessing import LabelEncoder"
      ],
      "execution_count": 0,
      "outputs": []
    },
    {
      "cell_type": "code",
      "metadata": {
        "id": "4K5ALNx_lj22",
        "colab_type": "code",
        "colab": {}
      },
      "source": [
        "names_list = []\n",
        "for name in names.Name:\n",
        "  name_li = []\n",
        "  for letter in name.lower():\n",
        "      if letter in vocab:\n",
        "        name_li.append(vocab[letter])\n",
        "  names_list.append(name_li)   #creating index based alphabets of names\n",
        "\n",
        "X = pad_sequences(names_list, maxlen=10)"
      ],
      "execution_count": 0,
      "outputs": []
    },
    {
      "cell_type": "code",
      "metadata": {
        "id": "T5IEIgxgotdU",
        "colab_type": "code",
        "colab": {
          "base_uri": "https://localhost:8080/",
          "height": 34
        },
        "outputId": "3ddbc4e6-3933-467f-db12-9e7ee2defd63"
      },
      "source": [
        "X.shape"
      ],
      "execution_count": 34,
      "outputs": [
        {
          "output_type": "execute_result",
          "data": {
            "text/plain": [
              "(1825433, 10)"
            ]
          },
          "metadata": {
            "tags": []
          },
          "execution_count": 34
        }
      ]
    },
    {
      "cell_type": "code",
      "metadata": {
        "id": "87Y7EhP4lmRv",
        "colab_type": "code",
        "colab": {}
      },
      "source": [
        "le = LabelEncoder()"
      ],
      "execution_count": 0,
      "outputs": []
    },
    {
      "cell_type": "code",
      "metadata": {
        "id": "hIZr347Ulodl",
        "colab_type": "code",
        "colab": {}
      },
      "source": [
        "\n",
        "y = le.fit_transform(names.Gender.values).reshape(-1, 1)"
      ],
      "execution_count": 0,
      "outputs": []
    },
    {
      "cell_type": "code",
      "metadata": {
        "id": "qcNfMN9pl-BA",
        "colab_type": "code",
        "colab": {}
      },
      "source": [
        "from keras.layers import Input, LSTM, Dense, Embedding\n",
        "from keras.models import Model"
      ],
      "execution_count": 0,
      "outputs": []
    },
    {
      "cell_type": "code",
      "metadata": {
        "id": "wRfyY6xxmAAq",
        "colab_type": "code",
        "colab": {}
      },
      "source": [
        "in_layer = Input(shape=(10, ))\n",
        "embed = Embedding(27, 3)(in_layer)\n",
        "l1 = LSTM(64)(embed)\n",
        "d1 = Dense(10, activation=\"tanh\")(l1)\n",
        "out = Dense(1, activation=\"sigmoid\")(d1)"
      ],
      "execution_count": 0,
      "outputs": []
    },
    {
      "cell_type": "code",
      "metadata": {
        "id": "9Vc2jylAmCjZ",
        "colab_type": "code",
        "colab": {}
      },
      "source": [
        "model = Model(in_layer, out)"
      ],
      "execution_count": 0,
      "outputs": []
    },
    {
      "cell_type": "code",
      "metadata": {
        "id": "djEUtXxDmEcT",
        "colab_type": "code",
        "colab": {}
      },
      "source": [
        "model.compile(optimizer=\"rmsprop\", loss=\"binary_crossentropy\", metrics=[\"accuracy\"])"
      ],
      "execution_count": 0,
      "outputs": []
    },
    {
      "cell_type": "code",
      "metadata": {
        "id": "nfYNQK7rmGir",
        "colab_type": "code",
        "colab": {
          "base_uri": "https://localhost:8080/",
          "height": 507
        },
        "outputId": "bdee20aa-156f-4d08-e800-601bbd24c2ee"
      },
      "source": [
        "model.fit(X, y, batch_size=10000, epochs=5, validation_split=0.2)"
      ],
      "execution_count": 41,
      "outputs": [
        {
          "output_type": "stream",
          "text": [
            "WARNING:tensorflow:From /usr/local/lib/python3.6/dist-packages/keras/backend/tensorflow_backend.py:1033: The name tf.assign_add is deprecated. Please use tf.compat.v1.assign_add instead.\n",
            "\n",
            "WARNING:tensorflow:From /usr/local/lib/python3.6/dist-packages/keras/backend/tensorflow_backend.py:1020: The name tf.assign is deprecated. Please use tf.compat.v1.assign instead.\n",
            "\n",
            "WARNING:tensorflow:From /usr/local/lib/python3.6/dist-packages/keras/backend/tensorflow_backend.py:3005: The name tf.Session is deprecated. Please use tf.compat.v1.Session instead.\n",
            "\n",
            "Train on 1460346 samples, validate on 365087 samples\n",
            "Epoch 1/5\n",
            "WARNING:tensorflow:From /usr/local/lib/python3.6/dist-packages/keras/backend/tensorflow_backend.py:190: The name tf.get_default_session is deprecated. Please use tf.compat.v1.get_default_session instead.\n",
            "\n",
            "WARNING:tensorflow:From /usr/local/lib/python3.6/dist-packages/keras/backend/tensorflow_backend.py:197: The name tf.ConfigProto is deprecated. Please use tf.compat.v1.ConfigProto instead.\n",
            "\n",
            "WARNING:tensorflow:From /usr/local/lib/python3.6/dist-packages/keras/backend/tensorflow_backend.py:207: The name tf.global_variables is deprecated. Please use tf.compat.v1.global_variables instead.\n",
            "\n",
            "WARNING:tensorflow:From /usr/local/lib/python3.6/dist-packages/keras/backend/tensorflow_backend.py:216: The name tf.is_variable_initialized is deprecated. Please use tf.compat.v1.is_variable_initialized instead.\n",
            "\n",
            "WARNING:tensorflow:From /usr/local/lib/python3.6/dist-packages/keras/backend/tensorflow_backend.py:223: The name tf.variables_initializer is deprecated. Please use tf.compat.v1.variables_initializer instead.\n",
            "\n",
            "1460346/1460346 [==============================] - 10s 7us/step - loss: 0.6116 - acc: 0.6595 - val_loss: 0.5235 - val_acc: 0.7417\n",
            "Epoch 2/5\n",
            "1460346/1460346 [==============================] - 5s 3us/step - loss: 0.4816 - acc: 0.7690 - val_loss: 0.4697 - val_acc: 0.7835\n",
            "Epoch 3/5\n",
            "1460346/1460346 [==============================] - 5s 3us/step - loss: 0.4647 - acc: 0.7807 - val_loss: 0.4582 - val_acc: 0.7849\n",
            "Epoch 4/5\n",
            "1460346/1460346 [==============================] - 5s 3us/step - loss: 0.4593 - acc: 0.7841 - val_loss: 0.4550 - val_acc: 0.7881\n",
            "Epoch 5/5\n",
            "1460346/1460346 [==============================] - 5s 3us/step - loss: 0.4567 - acc: 0.7855 - val_loss: 0.4648 - val_acc: 0.7834\n"
          ],
          "name": "stdout"
        },
        {
          "output_type": "execute_result",
          "data": {
            "text/plain": [
              "<keras.callbacks.History at 0x7fa7992cce80>"
            ]
          },
          "metadata": {
            "tags": []
          },
          "execution_count": 41
        }
      ]
    },
    {
      "cell_type": "code",
      "metadata": {
        "id": "Nw_6cTA-mJ7c",
        "colab_type": "code",
        "colab": {}
      },
      "source": [
        "names = [\"Anuj\",\"Amit\"]\n",
        "\n",
        "names_list = []\n",
        "for name in names:\n",
        "  name_li = []\n",
        "  for letter in name.lower():\n",
        "\n",
        "      if letter in vocab:\n",
        "        name_li.append(vocab[letter]) #creates a list of index for this particular word\n",
        "  names_list.append(name_li)#list of indices for all the names"
      ],
      "execution_count": 0,
      "outputs": []
    },
    {
      "cell_type": "code",
      "metadata": {
        "id": "Aay5qcD-mck0",
        "colab_type": "code",
        "colab": {}
      },
      "source": [
        "X_test = pad_sequences(names_list, maxlen=10)"
      ],
      "execution_count": 0,
      "outputs": []
    },
    {
      "cell_type": "code",
      "metadata": {
        "id": "sLCTIbnsmegv",
        "colab_type": "code",
        "colab": {
          "base_uri": "https://localhost:8080/",
          "height": 50
        },
        "outputId": "8b6b08ed-5604-44b5-9aa3-7e3ebb8b349a"
      },
      "source": [
        "model.predict(X_test) # so both the names are male close to class 1 that is male"
      ],
      "execution_count": 44,
      "outputs": [
        {
          "output_type": "execute_result",
          "data": {
            "text/plain": [
              "array([[0.8701926],\n",
              "       [0.7102114]], dtype=float32)"
            ]
          },
          "metadata": {
            "tags": []
          },
          "execution_count": 44
        }
      ]
    },
    {
      "cell_type": "code",
      "metadata": {
        "id": "clWsMYGSpkCm",
        "colab_type": "code",
        "colab": {
          "base_uri": "https://localhost:8080/",
          "height": 34
        },
        "outputId": "42ef08ed-0041-4505-f70b-fdfe039c051c"
      },
      "source": [
        "le.classes_"
      ],
      "execution_count": 45,
      "outputs": [
        {
          "output_type": "execute_result",
          "data": {
            "text/plain": [
              "array(['F', 'M'], dtype=object)"
            ]
          },
          "metadata": {
            "tags": []
          },
          "execution_count": 45
        }
      ]
    },
    {
      "cell_type": "code",
      "metadata": {
        "id": "A1toNxsKpu9b",
        "colab_type": "code",
        "colab": {}
      },
      "source": [
        ""
      ],
      "execution_count": 0,
      "outputs": []
    }
  ]
}